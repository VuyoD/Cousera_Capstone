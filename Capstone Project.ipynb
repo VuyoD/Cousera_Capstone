{
    "cells": [
        {
            "cell_type": "markdown",
            "metadata": {
                "collapsed": true
            },
            "source": "# EV Charging - What to do while you wait..."
        },
        {
            "cell_type": "markdown",
            "metadata": {},
            "source": "## 1. Problem description and background"
        },
        {
            "cell_type": "markdown",
            "metadata": {},
            "source": "The growth in the electric vehicle (EV) market over past five to ten years has seen a shift in the trend of electric vehicle buyers. Once seen as an elitist vehicle model reserved for those who could afford the \"green\" status of owning an electric or hybrid vehicle, goverment subsidies into the market owing to global emission reduction commitments, have seen the cost of owning an EV driven down to be in reach of the everyday upper middle class citizen (broadly speaking). [1] Focusing on my own back yard, South Africa (RSA), there is still a great deal of skepticism amongst those interested in and with the finacial ability to purchase an EV about the charging infrastructure around the country. [2] That is, outside of a dedicated plug point at ones home, where can the EV be charged while on the road especially on long distance trips? The average EV available in RSA at the moment has a range of between 300 km - 500 km on a full charge. The average inter-provicial trip will thus require a recharge at some point along the way. For this reason, among others, there has been a relatively slower uptake of the EV in the private and commercial vehicle market with the internal combustion engine (ICE) still dominating here. As the affordibility of the EV is set to improve further over the coming years with the drop in battery prices (which make up a significant percentage of its cost), the question of ease of operability of an EV within RSAs infrastructure will continue to be a deciding factor for the increased number of people who will have the ability to purchase one. [1] \n\nThere has, however, been a great deal of investment made by car manufacturers who offer EVs in the RSA market to build up the vehicle charging plug point infrastructure around the country. [2] This has been an incentive for buyers to strongly consider the manufacturers EV given their promise of country wide charging capabilities, sometimes offered free of charge. Some of these manufacturers have maps on their respective websites showing their charging point locations and operating conditions among other key indicators. [2] In addition to this, the site PlugShare offers the service of showing all the different suppliers' plug points around the country as well as the rest of the world. [3] Information such as the plug point types available at the location, recent users and nearby plug points is also offered for each location. A recent search on the site returned 250 active and sooon to be operating charging locations around the country. The charging infrastucture is thus on a growth trajectory and is expected to continue to do so as more EV hit RSA roads. Another feature of the PlugShare site is the ability to plan a trip tailored to a users vehicle and their journey requirements. This assists in mapping out the best route with plug point stops for the user to recharge on their journey as required by their EV. This is a great feature and something future EV owners will loook for and find very useful when considering to buy or even to just hire an EV for a period of time. Another layer one could add to this are options for the user to occupy their time while they wait for their vehicle to charge en route. What to do while you wait. . .\n\nThe most common EV charging plug point found on RSAs public routes was found to be a Type 2 EV plug. [3] This type of plug point is referred to as a Fast Charger and is usually rated at 7 kW or 22 kW of power. This means the charging time for a typical 40 kWh battery car can vary between 4-6 hours for a 7 kW charger, and 1 - 2 hours for a 22 kW charger. [4] Although these charging times can vary depending on the EV's battery capacity and on board charging rates, they provide a good enough estimate of the amount of time a user could expect to wait for their EV to charge while on the road. This also taking into cognisance the declining charging time periods of newer EV models with smarter charging technologies. The point here being that a user will, for now, have to wait a period of time longer than the usual fuel station stops associated with ICE vehicles. This means that charging point service providers or sites like PlugShare could also include suggestions on nearby locations where the user could spend their time constructively while their vehicle charges. This will assist in making their trip a lot more enjoyable by adding small activities or conveniences on the way while their EV charges."
        },
        {
            "cell_type": "markdown",
            "metadata": {},
            "source": "## 2.  Data description and application"
        },
        {
            "cell_type": "markdown",
            "metadata": {},
            "source": "The data that will be used for this solution consists of the location data of a charging point as well as different venues within a walking distance (radius chosen as 200 m) from the charging point. This solution will, as discussed in the problem description, focus on the South African EV charging infrastructure along major routes.  "
        },
        {
            "cell_type": "markdown",
            "metadata": {},
            "source": "### 2.1 Data aquisition"
        },
        {
            "cell_type": "markdown",
            "metadata": {},
            "source": "a) The first part of the data required is the location of public EV charging stations in RSA. This information could potentially be available through accessing the PlugShare Developer Center to retreive EV plug point locations in a specific region. The site, however, only offers commercial licence access to its API at this stage. It was decided that this is not an option for the scale and objective of the project assignment. The alternative suitable for this project is a car magazine website article which lists a few of the EV charging stations in the country at the time of its publication. [6] The article provides the address of each plug point that it has knowledge of. This address will be used to determine the lattitude and longitude coordinates of the plug point using the Geocoder API.\n\nb) The second part of the data required are the venues in the immediate surroundings of the plug point location. These venues can be aquired using the FourSquare API based on the plug point location data and a venue range of 200 m."
        },
        {
            "cell_type": "markdown",
            "metadata": {},
            "source": "### 2.2 Data application"
        },
        {
            "cell_type": "markdown",
            "metadata": {},
            "source": "a) The location data of the plug points and the respective surrouding venues will be plotted as markers on a map showing the plug location marker in a specific colour and the venues in its' surrounds in a different colour.\n\nb) The venues will then be clustered according to a venue type e.g. restaurant or park. The clusters will have different colour markers on the map with a key guide showing the user what type of venue is represented by which colour marker. \n\nThis will allow a user to see what types of venues are available near a certain EV plug point giving them options when deciding what to do while they wait for the vehicle to charge. A user could also decide to not stop at a certain plug point and rather at another which is close by or within range of their vehicles available battery capacity if they prefer to stop at location which has a certain type of venue nearby. This adds a convenient layer to a users trip planning service."
        },
        {
            "cell_type": "code",
            "execution_count": null,
            "metadata": {},
            "outputs": [],
            "source": ""
        }
    ],
    "metadata": {
        "kernelspec": {
            "display_name": "Python 3.6",
            "language": "python",
            "name": "python3"
        },
        "language_info": {
            "codemirror_mode": {
                "name": "ipython",
                "version": 3
            },
            "file_extension": ".py",
            "mimetype": "text/x-python",
            "name": "python",
            "nbconvert_exporter": "python",
            "pygments_lexer": "ipython3",
            "version": "3.6.9"
        }
    },
    "nbformat": 4,
    "nbformat_minor": 1
}
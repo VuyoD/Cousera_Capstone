{
    "cells": [
        {
            "cell_type": "markdown",
            "metadata": {
                "collapsed": true
            },
            "source": "### **List of postal codes of Canada - Dataframe**"
        },
        {
            "cell_type": "code",
            "execution_count": 1,
            "metadata": {},
            "outputs": [
                {
                    "name": "stdout",
                    "output_type": "stream",
                    "text": "Libraries imported\n"
                }
            ],
            "source": "#import required libs \nimport numpy as np\nimport requests\nimport pandas as pd \nfrom pandas.io.json import json_normalize\nfrom geopy.geocoders import Nominatim\n\nprint(\"Libraries imported\")"
        },
        {
            "cell_type": "markdown",
            "metadata": {},
            "source": "**Aquire Data**"
        },
        {
            "cell_type": "code",
            "execution_count": 2,
            "metadata": {},
            "outputs": [],
            "source": "#get table from wikipedia page\nurl = 'https://en.wikipedia.org/wiki/List_of_postal_codes_of_Canada:_M'\n\ntoronto = pd.read_html(url, header=0)\n\ntoronto_df = toronto[0]"
        },
        {
            "cell_type": "markdown",
            "metadata": {},
            "source": "**Cleaning the dataframe**"
        },
        {
            "cell_type": "code",
            "execution_count": null,
            "metadata": {},
            "outputs": [],
            "source": "#drop \"Not Assigned\" Boroughs\ntoronto_df = toronto_df[toronto_df.Borough != 'Not assigned'].reset_index(drop=True)\ntoronto_df\n"
        },
        {
            "cell_type": "code",
            "execution_count": null,
            "metadata": {},
            "outputs": [],
            "source": "#change Postal Code rows with Neighborhoods \"Not assigned\" to Borough name\ntill = toronto_df.shape[0]\n\nfor ind in range(0, (till-1)):\n    if (toronto_df.iloc[ind,2] == 'Not assigned'):\n        toronto_df.iloc[ind,2] = toronto_df.iloc[ind,1];\n        \ntoronto_df"
        },
        {
            "cell_type": "code",
            "execution_count": null,
            "metadata": {},
            "outputs": [],
            "source": "#combine Postal Codes that are listed more than once with different Neighbohoods\n\n#first check for duplicate postal codes\npostal_dup = toronto_df.groupby('Postal Code').count()\n\nfor ind in range(0, (till-1)):\n    if (postal_dup.iloc[ind,1] != 1):\n        print(\"A duplicate exists at Postal Code: {}\".format(postal_dup.iloc[ind,0]))"
        },
        {
            "cell_type": "markdown",
            "metadata": {},
            "source": "From the above it is shown that no duplicate postal addresses exist in the dataframe. The neighborhoods have thus already been sorted."
        },
        {
            "cell_type": "markdown",
            "metadata": {},
            "source": "**Number of rows in the dataframe**"
        },
        {
            "cell_type": "code",
            "execution_count": null,
            "metadata": {},
            "outputs": [],
            "source": "print(\"Number of rows in the cleaned Toronto datafram: {}\".format(toronto_df.shape[0]))"
        },
        {
            "cell_type": "code",
            "execution_count": null,
            "metadata": {},
            "outputs": [],
            "source": ""
        }
    ],
    "metadata": {
        "kernelspec": {
            "display_name": "Python 3.6",
            "language": "python",
            "name": "python3"
        },
        "language_info": {
            "codemirror_mode": {
                "name": "ipython",
                "version": 3
            },
            "file_extension": ".py",
            "mimetype": "text/x-python",
            "name": "python",
            "nbconvert_exporter": "python",
            "pygments_lexer": "ipython3",
            "version": "3.6.9"
        }
    },
    "nbformat": 4,
    "nbformat_minor": 1
}